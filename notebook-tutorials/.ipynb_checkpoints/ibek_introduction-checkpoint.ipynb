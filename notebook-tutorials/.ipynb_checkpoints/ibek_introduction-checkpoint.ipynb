{
 "cells": [
  {
   "cell_type": "markdown",
   "metadata": {},
   "source": [
    "# Introduction to ibek\n",
    "\n",
    "ibek is a tool to assist building containerised IOC's for EPICS."
   ]
  },
  {
   "cell_type": "code",
   "execution_count": null,
   "metadata": {},
   "outputs": [],
   "source": []
  }
 ],
 "metadata": {
  "kernelspec": {
   "display_name": "Python 3.8.5 64-bit ('ibek-6J3sZR5W': pipenv)",
   "language": "python",
   "name": "python385jvsc74a57bd0b3529ffe0d8bde4e9744ab268abf4560fcba3727a952e67793f60254645ede51"
  },
  "language_info": {
   "codemirror_mode": {
    "name": "ipython",
    "version": 3
   },
   "file_extension": ".py",
   "mimetype": "text/x-python",
   "name": "python",
   "nbconvert_exporter": "python",
   "pygments_lexer": "ipython3",
   "version": "3.8.5"
  }
 },
 "nbformat": 4,
 "nbformat_minor": 4
}
