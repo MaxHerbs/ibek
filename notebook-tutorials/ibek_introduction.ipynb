{
 "cells": [
  {
   "cell_type": "markdown",
   "metadata": {},
   "source": [
    "# Introduction to ibek\n",
    "\n",
    "ibek is a tool to assist building containerised IOC's, orchastrated by Kubernetes, for EPICS."
   ]
  },
  {
   "cell_type": "markdown",
   "metadata": {},
   "source": [
    "## ibek Architecture Summary\n",
    "\n",
    "ibek uses YAML files to define instances of IOCs.\n",
    "\n",
    "|  | Name | Description | Purpose | Where |\n",
    "| --- | --- | --- | --- | --- |\n",
    "|1| `ibek.schema.json` | Global to all IOCs and already provided in ibek code | Schema for 2 | Defined in ibek code |\n",
    "|2| `<ioc_class>.ibek.yaml` | Provided by the generic IOC container image for a specific class of IOC | Defines a set of entities pmac can create with parameters and how to generate IOC code to create them  | in image  |\n",
    "|3| `<ioc_class>.schema.json`  | Also provided by generic IOC container image | Schema for 4  | In image  |\n",
    "|4| `<ioc_instance_name>.yaml` | Definition for an individual IOC, designed by the IOC designer (using a schema-aware editor to guide them)  | Declare the specific devices and configuration for an instance of an IOC  | In the root of the `<ioc_instance_name>` project  |\n",
    "|5| Helm chart for `<ioc_instance_name>.yaml`  | A set of files for deploying bl45p-mo-ioc-02 to K8S. Much of this is boiler plate with the important file being the ioc.boot startup script that initializes objects and declares EPICS DATABASE template instantiations  | Create an actual running IOC on a cluster | generated in iocs folder of `<ioc_instance_name>` during a build  |"
   ]
  },
  {
   "cell_type": "markdown",
   "metadata": {},
   "source": [
    "## ibek Use Cases\n",
    "ibek aids developers in two tasks in the pipeline for building and deploying containerised IOCs:\n",
    "- Building an image for a specific **class** of IOC (or support module)\n",
    "- Creation and deployment of a container for a specific **instance** of IOC\n",
    "\n",
    "We have tutorials for each of these use cases:\n",
    "- [Support module creation](ioc_class_creation.ipynb)\n",
    "- [IOC instance creation](creating_ioc_instances.ipynb)\n",
    "\n"
   ]
  },
  {
   "cell_type": "code",
   "execution_count": null,
   "metadata": {},
   "outputs": [],
   "source": []
  }
 ],
 "metadata": {
  "kernelspec": {
   "display_name": "Python 3.8.5 64-bit ('ibek-6J3sZR5W': pipenv)",
   "language": "python",
   "name": "python385jvsc74a57bd0b3529ffe0d8bde4e9744ab268abf4560fcba3727a952e67793f60254645ede51"
  },
  "language_info": {
   "codemirror_mode": {
    "name": "ipython",
    "version": 3
   },
   "file_extension": ".py",
   "mimetype": "text/x-python",
   "name": "python",
   "nbconvert_exporter": "python",
   "pygments_lexer": "ipython3",
   "version": "3.8.5"
  }
 },
 "nbformat": 4,
 "nbformat_minor": 4
}
