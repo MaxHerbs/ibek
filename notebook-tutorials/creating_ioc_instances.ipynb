{
 "cells": [
  {
   "cell_type": "markdown",
   "metadata": {},
   "source": [
    "# Creating IOC instances\n",
    "## Background\n",
    "\n",
    "\n",
    "## Overview\n",
    "To generate an IOC instance of particular class you need four things:\n",
    "- A podman image for the class of IOC you wish to create\n",
    "- An `<ioc_class>.ibek.yaml` file (this should be located in the podman image for the IOC)\n",
    "- An `<ioc_class>.schema.json` file\n",
    "- An `<ioc_instance_name>.yaml` file\n"
   ]
  },
  {
   "cell_type": "markdown",
   "metadata": {},
   "source": [
    "## Example (IOC for a PMAC motion controller)\n",
    "\n",
    "### Creating an `<ioc-class>.schema.json`\n",
    "To create a schema adhering YAML file, we need first to create is a schema for our class of IOC: `pmac.schema.json`"
   ]
  },
  {
   "cell_type": "code",
   "execution_count": null,
   "metadata": {},
   "outputs": [],
   "source": [
    "#Tutorial specific for this early stage. To be changed when ibek is completed\n",
    "PATH_TO_IBEK=../ibek/BL45P-MO-IOC-01/ioc_boot.py\n",
    "IOC_SCHEMA_PATH=/tmp/pmac.schema.json"
   ]
  },
  {
   "cell_type": "markdown",
   "metadata": {},
   "source": [
    "This is achieved by running the command:"
   ]
  },
  {
   "cell_type": "code",
   "execution_count": null,
   "metadata": {},
   "outputs": [],
   "source": [
    "python $PATH_TO_IBEK ioc-schema $IOC_SCHEMA_PATH \"pmac.ibek.yaml\""
   ]
  },
  {
   "cell_type": "code",
   "execution_count": null,
   "metadata": {},
   "outputs": [],
   "source": [
    "# Display the schema generated \n",
    "cat $IOC_SCHEMA_PATH"
   ]
  },
  {
   "cell_type": "markdown",
   "metadata": {},
   "source": [
    "### Using a schema-aware editor to write an `<ioc-name>.ibek.yaml`\n",
    "ibek users are of course free to use any schema-aware editor of their choice, however we have tested ibek with the `redhat.vscode-yaml` extension to Visual Studio Code and can present some of the functionality below."
   ]
  },
  {
   "cell_type": "markdown",
   "metadata": {},
   "source": [
    "![Title](images/yaml_extension.png)"
   ]
  },
  {
   "cell_type": "markdown",
   "metadata": {},
   "source": [
    "To make use of a specific schema, users must associate their schema with their yaml file."
   ]
  },
  {
   "cell_type": "markdown",
   "metadata": {},
   "source": [
    "All `<ioc-name>.ibek.yaml` files have the same form. They have a name: `ioc-name` and a list of instances: `instances`:\n",
    "![Title](images/blank_yaml.png)"
   ]
  },
  {
   "cell_type": "markdown",
   "metadata": {},
   "source": [
    "![Title](images/creating_an_instance_of_specific_type.png)"
   ]
  },
  {
   "cell_type": "markdown",
   "metadata": {},
   "source": [
    "The schema can be used to check whether a specific key is valid for a given instance type:\n",
    "![Title](images/invalid_key_error_one.png)\n",
    "![Title](images/invalid_key_error_two.png)"
   ]
  },
  {
   "cell_type": "markdown",
   "metadata": {},
   "source": [
    "The schema can check whether an insatnce type is valid for this ioc class:\n",
    "![Title](images/invalid_instance_type.png)\n",
    "![Title](images/invalid_instance_type_two.png)"
   ]
  },
  {
   "cell_type": "markdown",
   "metadata": {},
   "source": [
    "### Using ibek to generate an `ioc.boot` script\n",
    "Once we have written our `<ioc-name>.ibek.yaml` file we can use ibek to generate the only instance specific part of our IOC, the `ioc.boot` script. Below is an example `<ioc-name>.ibek.yaml` file for an instance of a pmac class of IOC."
   ]
  },
  {
   "cell_type": "code",
   "execution_count": null,
   "metadata": {},
   "outputs": [],
   "source": [
    "PATH_TO_IOC_NAME_IBEK_YAML=../ibek/BL45P-MO-IOC-01/bl45p-mo-ioc-02.pmac.yaml\n",
    "cat $PATH_TO_IOC_NAME_IBEK_YAML"
   ]
  },
  {
   "cell_type": "markdown",
   "metadata": {},
   "source": [
    "From this file we can use ibek to generate a boot script and helm chart using the command `python $PATH_TO_IBEK build-ioc <IOC_YAML>`"
   ]
  },
  {
   "cell_type": "code",
   "execution_count": null,
   "metadata": {},
   "outputs": [],
   "source": [
    "python $PATH_TO_IBEK build-ioc PATH_TO_IOC_NAME_IBEK_YAML"
   ]
  },
  {
   "cell_type": "code",
   "execution_count": null,
   "metadata": {},
   "outputs": [],
   "source": []
  }
 ],
 "metadata": {
  "kernelspec": {
   "display_name": "Bash",
   "language": "bash",
   "name": "bash"
  },
  "language_info": {
   "codemirror_mode": "shell",
   "file_extension": ".sh",
   "mimetype": "text/x-sh",
   "name": "bash"
  }
 },
 "nbformat": 4,
 "nbformat_minor": 4
}
