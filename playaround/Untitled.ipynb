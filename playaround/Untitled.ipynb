{
 "cells": [
  {
   "cell_type": "code",
   "execution_count": 1,
   "id": "41318af5",
   "metadata": {},
   "outputs": [
    {
     "name": "stdout",
     "output_type": "stream",
     "text": [
      "# conda environments:\n",
      "#\n",
      "                         /Users/richardparke/anaconda3\n",
      "base                  *  /Users/richardparke/anaconda3/envs/apischema\n",
      "\n",
      "\n",
      "Note: you may need to restart the kernel to use updated packages.\n"
     ]
    }
   ],
   "source": [
    "conda env list"
   ]
  },
  {
   "cell_type": "code",
   "execution_count": 2,
   "id": "f7464e27",
   "metadata": {},
   "outputs": [],
   "source": [
    "from dataclasses import dataclass\n",
    "from typing import Any, Mapping, Optional, Sequence, Type, TypeVar, Union\n",
    "\n",
    "from apischema import Undefined, UndefinedType, deserialize, deserializer, schema\n",
    "from apischema.conversions import Conversion, identity\n",
    "from jinja2 import Template\n",
    "from typing_extensions import Annotated as A\n",
    "from typing_extensions import Literal\n"
   ]
  },
  {
   "cell_type": "code",
   "execution_count": 3,
   "id": "a00faa05",
   "metadata": {},
   "outputs": [],
   "source": [
    "T = TypeVar(\"T\")"
   ]
  },
  {
   "cell_type": "code",
   "execution_count": 5,
   "id": "04412242",
   "metadata": {},
   "outputs": [],
   "source": [
    "def desc(description: str):\n",
    "    return schema(description = description)"
   ]
  },
  {
   "cell_type": "code",
   "execution_count": 7,
   "id": "c1578bea",
   "metadata": {},
   "outputs": [],
   "source": [
    "@dataclass\n",
    "class Arg:\n",
    "    name: A[str, desc(\"Name of the argument that the IOC instance should pass\")]\n",
    "    description: A[str, desc(\"Description of what the argument will be used for\")]"
   ]
  },
  {
   "cell_type": "code",
   "execution_count": 10,
   "id": "05b4d444",
   "metadata": {},
   "outputs": [],
   "source": [
    "Default = A[\n",
    "    Union[Optional[T], UndefinedType],\n",
    "    desc(\"If given, and the instance doesn't supply argument, what value should be used\")\n",
    "]"
   ]
  },
  {
   "cell_type": "code",
   "execution_count": 11,
   "id": "32246c2d",
   "metadata": {},
   "outputs": [
    {
     "data": {
      "text/plain": [
       "typing.Annotated[typing.Union[~T, NoneType, apischema.utils.UndefinedType], Schema(annotations=Annotations(extra=None, title=None, description=\"If given, and the instance doesn't supply argument, what value should be used\", default=Undefined, examples=None, format=None, deprecated=False), constraints=None, override=False)]"
      ]
     },
     "execution_count": 11,
     "metadata": {},
     "output_type": "execute_result"
    }
   ],
   "source": [
    "Default"
   ]
  },
  {
   "cell_type": "code",
   "execution_count": 14,
   "id": "0f34bbd6",
   "metadata": {},
   "outputs": [],
   "source": [
    "@dataclass\n",
    "class StrArg(Arg):\n",
    "    \"\"\"An argument with an str value\"\"\"\n",
    "    \n",
    "    type: Literal['str'] = 'str'\n",
    "    default: Default[str] = Undefined\n",
    "    is_id: A[\n",
    "        bool, desc(\"If true, instances may refer to this instance by this arg\")\n",
    "    ] = False"
   ]
  },
  {
   "cell_type": "code",
   "execution_count": 15,
   "id": "f55f906e",
   "metadata": {},
   "outputs": [
    {
     "name": "stdout",
     "output_type": "stream",
     "text": [
      "Help on _SpecialGenericAlias in module typing:\n",
      "\n",
      "typing.Mapping\n",
      "    A generic version of collections.abc.Mapping.\n",
      "\n"
     ]
    }
   ],
   "source": [
    "help(Mapping)"
   ]
  },
  {
   "cell_type": "code",
   "execution_count": null,
   "id": "088c7609",
   "metadata": {},
   "outputs": [],
   "source": []
  }
 ],
 "metadata": {
  "kernelspec": {
   "display_name": "Python 3",
   "language": "python",
   "name": "python3"
  },
  "language_info": {
   "codemirror_mode": {
    "name": "ipython",
    "version": 3
   },
   "file_extension": ".py",
   "mimetype": "text/x-python",
   "name": "python",
   "nbconvert_exporter": "python",
   "pygments_lexer": "ipython3",
   "version": "3.9.4"
  }
 },
 "nbformat": 4,
 "nbformat_minor": 5
}
